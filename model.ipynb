{
 "cells": [
  {
   "cell_type": "markdown",
   "metadata": {},
   "source": [
    "### Classifying Fashion Items with a K-Nearest Neighbors Model"
   ]
  },
  {
   "cell_type": "code",
   "execution_count": 1,
   "metadata": {},
   "outputs": [],
   "source": [
    "import gzip\n",
    "import matplotlib.pyplot as plt\n",
    "import numpy as np\n",
    "import os\n",
    "import requests\n",
    "from sklearn.neighbors import KNeighborsClassifier\n",
    "\n",
    "%matplotlib inline"
   ]
  },
  {
   "cell_type": "code",
   "execution_count": null,
   "metadata": {},
   "outputs": [],
   "source": [
    "'''\n",
    "Download and store data from the\n",
    "Fashion MNIST dataset\n",
    "'''\n",
    "\n",
    "def download_fashion_mnist(url, file_name):\n",
    "    '''\n",
    "    Download data from the 'url' and save\n",
    "    it in the directory as 'file_name'\n",
    "    '''\n",
    "\n",
    "    if not os.path.exists(file_name):\n",
    "        r = requests.get(url)\n",
    "        with open(file_name, 'wb') as f:\n",
    "            f.write(r.content)\n",
    "\n",
    "def load_fashion_mnist(image_file, label_file):\n",
    "    '''\n",
    "    Read in the binary 'image_file' and\n",
    "    'label_file' data as NumPy arrays\n",
    "    '''\n",
    "\n",
    "    with gzip.open(image_file, 'rb') as f:\n",
    "        images = np.frombuffer(f.read(), np.uint8, offset=16).reshape(-1, 28, 28)\n",
    "\n",
    "    with gzip.open(label_file, 'rb') as f:\n",
    "        labels = np.frombuffer(f.read(), np.uint8, offset=8)\n",
    "\n",
    "    return images, labels\n",
    "\n",
    "image_url = 'http://fashion-mnist.s3-website.eu-central-1.amazonaws.com/train-images-idx3-ubyte.gz'\n",
    "label_url = 'http://fashion-mnist.s3-website.eu-central-1.amazonaws.com/train-labels-idx1-ubyte.gz'\n",
    "\n",
    "image_file = 'train-images-idx3-ubyte.gz'\n",
    "label_file = 'train-labels-idx1-ubyte.gz'\n",
    "\n",
    "download_fashion_mnist(image_url, image_file)\n",
    "download_fashion_mnist(label_url, label_file)\n",
    "\n",
    "train_images, train_labels = load_fashion_mnist(image_file, label_file)\n",
    "\n",
    "test_image_url = 'http://fashion-mnist.s3-website.eu-central-1.amazonaws.com/t10k-images-idx3-ubyte.gz'\n",
    "test_label_url = 'http://fashion-mnist.s3-website.eu-central-1.amazonaws.com/t10k-labels-idx1-ubyte.gz'\n",
    "\n",
    "test_image_file = 't10k-images-idx3-ubyte.gz'\n",
    "test_label_file = 't10k-labels-idx1-ubyte.gz'\n",
    "\n",
    "download_fashion_mnist(test_image_url, test_image_file)\n",
    "download_fashion_mnist(test_label_url, test_label_file)\n",
    "\n",
    "test_images, test_labels = load_fashion_mnist(test_image_file, test_label_file)\n",
    "\n",
    "class_names = ['T-shirt/top', 'Trouser', 'Pullover', 'Dress', 'Coat', 'Sandal', 'Shirt', 'Sneaker', 'Bag', 'Ankle boot']"
   ]
  }
 ],
 "metadata": {
  "kernelspec": {
   "display_name": "Python 3",
   "language": "python",
   "name": "python3"
  },
  "language_info": {
   "codemirror_mode": {
    "name": "ipython",
    "version": 3
   },
   "file_extension": ".py",
   "mimetype": "text/x-python",
   "name": "python",
   "nbconvert_exporter": "python",
   "pygments_lexer": "ipython3",
   "version": "3.12.1"
  }
 },
 "nbformat": 4,
 "nbformat_minor": 2
}
